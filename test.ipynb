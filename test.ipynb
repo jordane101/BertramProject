{
 "cells": [
  {
   "cell_type": "code",
   "execution_count": 2,
   "id": "initial_id",
   "metadata": {
    "collapsed": true,
    "ExecuteTime": {
     "end_time": "2024-02-13T01:00:07.862212800Z",
     "start_time": "2024-02-13T01:00:07.618311300Z"
    }
   },
   "outputs": [
    {
     "data": {
      "text/plain": "  Employee Favorite Drink  Salary  Dollars Spent                   Debt\n0      Bob          Black   85000             25  (Jeremy,3),(Thomas,6)\n1   Jeremy          Mocha  118000             15                    NaN\n2  Kaitlyn         Frappe   84000             16                    NaN\n3   Thomas     Cappuccino   90000             27                    NaN\n4    Sarah      Americano   93000              3               (Ryan,4)\n5     Ryan            Tea  104000             45                    NaN\n6      Dan           Soda   97000             16                    NaN",
      "text/html": "<div>\n<style scoped>\n    .dataframe tbody tr th:only-of-type {\n        vertical-align: middle;\n    }\n\n    .dataframe tbody tr th {\n        vertical-align: top;\n    }\n\n    .dataframe thead th {\n        text-align: right;\n    }\n</style>\n<table border=\"1\" class=\"dataframe\">\n  <thead>\n    <tr style=\"text-align: right;\">\n      <th></th>\n      <th>Employee</th>\n      <th>Favorite Drink</th>\n      <th>Salary</th>\n      <th>Dollars Spent</th>\n      <th>Debt</th>\n    </tr>\n  </thead>\n  <tbody>\n    <tr>\n      <th>0</th>\n      <td>Bob</td>\n      <td>Black</td>\n      <td>85000</td>\n      <td>25</td>\n      <td>(Jeremy,3),(Thomas,6)</td>\n    </tr>\n    <tr>\n      <th>1</th>\n      <td>Jeremy</td>\n      <td>Mocha</td>\n      <td>118000</td>\n      <td>15</td>\n      <td>NaN</td>\n    </tr>\n    <tr>\n      <th>2</th>\n      <td>Kaitlyn</td>\n      <td>Frappe</td>\n      <td>84000</td>\n      <td>16</td>\n      <td>NaN</td>\n    </tr>\n    <tr>\n      <th>3</th>\n      <td>Thomas</td>\n      <td>Cappuccino</td>\n      <td>90000</td>\n      <td>27</td>\n      <td>NaN</td>\n    </tr>\n    <tr>\n      <th>4</th>\n      <td>Sarah</td>\n      <td>Americano</td>\n      <td>93000</td>\n      <td>3</td>\n      <td>(Ryan,4)</td>\n    </tr>\n    <tr>\n      <th>5</th>\n      <td>Ryan</td>\n      <td>Tea</td>\n      <td>104000</td>\n      <td>45</td>\n      <td>NaN</td>\n    </tr>\n    <tr>\n      <th>6</th>\n      <td>Dan</td>\n      <td>Soda</td>\n      <td>97000</td>\n      <td>16</td>\n      <td>NaN</td>\n    </tr>\n  </tbody>\n</table>\n</div>"
     },
     "execution_count": 2,
     "metadata": {},
     "output_type": "execute_result"
    }
   ],
   "source": [
    "import pandas as pd\n",
    "from employee import *\n",
    "\n",
    "df = pd.read_csv('coffee_history.csv')\n",
    "df"
   ]
  },
  {
   "cell_type": "code",
   "outputs": [],
   "source": [
    "coffee_prices = {\n",
    "    \"black\": 3.0,\n",
    "    \"mocha\":5.0,\n",
    "    \"frappe\":5.50,\n",
    "    \"cappuccino\":4.50,\n",
    "    \"americano\":4.0,\n",
    "    \"tea\":3.50,\n",
    "    \"soda\":4.25\n",
    "}"
   ],
   "metadata": {
    "collapsed": false,
    "ExecuteTime": {
     "end_time": "2024-02-13T01:00:07.867846400Z",
     "start_time": "2024-02-13T01:00:07.863212500Z"
    }
   },
   "id": "cad0679c23dd508e",
   "execution_count": 3
  },
  {
   "cell_type": "code",
   "outputs": [
    {
     "ename": "SyntaxError",
     "evalue": "invalid syntax (2344859726.py, line 2)",
     "output_type": "error",
     "traceback": [
      "\u001B[1;36m  Cell \u001B[1;32mIn[4], line 2\u001B[1;36m\u001B[0m\n\u001B[1;33m    if df.loc[]\u001B[0m\n\u001B[1;37m              ^\u001B[0m\n\u001B[1;31mSyntaxError\u001B[0m\u001B[1;31m:\u001B[0m invalid syntax\n"
     ]
    }
   ],
   "source": [
    "for i in range(len(df)):\n",
    "    if df.loc[]\n",
    "    print(i)"
   ],
   "metadata": {
    "collapsed": false,
    "ExecuteTime": {
     "end_time": "2024-02-13T01:00:07.867846400Z",
     "start_time": "2024-02-13T01:00:07.865212800Z"
    }
   },
   "id": "4622c79fc94ac08",
   "execution_count": 4
  },
  {
   "cell_type": "code",
   "outputs": [],
   "source": [
    "min(df.loc[:,\"Dollars Spent\"])"
   ],
   "metadata": {
    "collapsed": false,
    "ExecuteTime": {
     "end_time": "2024-02-13T01:00:07.868841600Z",
     "start_time": "2024-02-13T01:00:07.868841600Z"
    }
   },
   "id": "8e25bd57225455fb",
   "execution_count": null
  },
  {
   "cell_type": "code",
   "outputs": [
    {
     "name": "stdout",
     "output_type": "stream",
     "text": [
      "Sarah\n"
     ]
    }
   ],
   "source": [
    "print(df[df[\"Dollars Spent\"] == min(df.loc[:,\"Dollars Spent\"])].loc[:,\"Employee\"].values[0])"
   ],
   "metadata": {
    "collapsed": false,
    "ExecuteTime": {
     "end_time": "2024-02-13T01:01:04.957871500Z",
     "start_time": "2024-02-13T01:01:04.949876900Z"
    }
   },
   "id": "e506e3daf1aeb234",
   "execution_count": 5
  },
  {
   "cell_type": "code",
   "outputs": [],
   "source": [
    "df.loc[[\"Sarah\"],\"Dollars Spent\"]"
   ],
   "metadata": {
    "collapsed": false,
    "ExecuteTime": {
     "start_time": "2024-02-13T01:00:07.870840900Z"
    }
   },
   "id": "eb698b283b68f238",
   "execution_count": null
  },
  {
   "cell_type": "code",
   "outputs": [],
   "source": [],
   "metadata": {
    "collapsed": false,
    "ExecuteTime": {
     "start_time": "2024-02-13T01:00:07.871841100Z"
    }
   },
   "id": "60526f42778d3618"
  }
 ],
 "metadata": {
  "kernelspec": {
   "display_name": "Python 3",
   "language": "python",
   "name": "python3"
  },
  "language_info": {
   "codemirror_mode": {
    "name": "ipython",
    "version": 2
   },
   "file_extension": ".py",
   "mimetype": "text/x-python",
   "name": "python",
   "nbconvert_exporter": "python",
   "pygments_lexer": "ipython2",
   "version": "2.7.6"
  }
 },
 "nbformat": 4,
 "nbformat_minor": 5
}
