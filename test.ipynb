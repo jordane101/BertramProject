{
 "cells": [
  {
   "cell_type": "code",
   "execution_count": 4,
   "id": "initial_id",
   "metadata": {
    "collapsed": true,
    "ExecuteTime": {
     "end_time": "2024-02-08T04:45:13.268298400Z",
     "start_time": "2024-02-08T04:45:13.253299400Z"
    }
   },
   "outputs": [
    {
     "data": {
      "text/plain": "  Employee Favorite Drink  Salary  Dollars Spent\n0      Bob          Black   85000              0\n1   Jeremy          Mocha  118000              0\n2  Kaitlyn         Frappe   84000              0\n3   Thomas     Cappuccino   90000              0\n4    Sarah      Americano   93000              0\n5     Ryan            Tea  104000              0\n6      Dan           Soda   97000              0",
      "text/html": "<div>\n<style scoped>\n    .dataframe tbody tr th:only-of-type {\n        vertical-align: middle;\n    }\n\n    .dataframe tbody tr th {\n        vertical-align: top;\n    }\n\n    .dataframe thead th {\n        text-align: right;\n    }\n</style>\n<table border=\"1\" class=\"dataframe\">\n  <thead>\n    <tr style=\"text-align: right;\">\n      <th></th>\n      <th>Employee</th>\n      <th>Favorite Drink</th>\n      <th>Salary</th>\n      <th>Dollars Spent</th>\n    </tr>\n  </thead>\n  <tbody>\n    <tr>\n      <th>0</th>\n      <td>Bob</td>\n      <td>Black</td>\n      <td>85000</td>\n      <td>0</td>\n    </tr>\n    <tr>\n      <th>1</th>\n      <td>Jeremy</td>\n      <td>Mocha</td>\n      <td>118000</td>\n      <td>0</td>\n    </tr>\n    <tr>\n      <th>2</th>\n      <td>Kaitlyn</td>\n      <td>Frappe</td>\n      <td>84000</td>\n      <td>0</td>\n    </tr>\n    <tr>\n      <th>3</th>\n      <td>Thomas</td>\n      <td>Cappuccino</td>\n      <td>90000</td>\n      <td>0</td>\n    </tr>\n    <tr>\n      <th>4</th>\n      <td>Sarah</td>\n      <td>Americano</td>\n      <td>93000</td>\n      <td>0</td>\n    </tr>\n    <tr>\n      <th>5</th>\n      <td>Ryan</td>\n      <td>Tea</td>\n      <td>104000</td>\n      <td>0</td>\n    </tr>\n    <tr>\n      <th>6</th>\n      <td>Dan</td>\n      <td>Soda</td>\n      <td>97000</td>\n      <td>0</td>\n    </tr>\n  </tbody>\n</table>\n</div>"
     },
     "execution_count": 4,
     "metadata": {},
     "output_type": "execute_result"
    }
   ],
   "source": [
    "import pandas as pd\n",
    "from employee import *\n",
    "\n",
    "df = pd.read_csv('coffee_history.csv')\n",
    "df"
   ]
  },
  {
   "cell_type": "code",
   "outputs": [],
   "source": [
    "coffee_prices = {\n",
    "    \"black\": 3.0,\n",
    "    \"mocha\":5.0,\n",
    "    \"frappe\":5.50,\n",
    "    \"cappuccino\":4.50,\n",
    "    \"americano\":4.0,\n",
    "    \"tea\":3.50,\n",
    "    \"soda\":4.25\n",
    "}"
   ],
   "metadata": {
    "collapsed": false,
    "ExecuteTime": {
     "end_time": "2024-02-08T04:49:08.982552800Z",
     "start_time": "2024-02-08T04:49:08.975552500Z"
    }
   },
   "id": "cad0679c23dd508e",
   "execution_count": 5
  },
  {
   "cell_type": "code",
   "outputs": [],
   "source": [],
   "metadata": {
    "collapsed": false
   },
   "id": "4622c79fc94ac08"
  }
 ],
 "metadata": {
  "kernelspec": {
   "display_name": "Python 3",
   "language": "python",
   "name": "python3"
  },
  "language_info": {
   "codemirror_mode": {
    "name": "ipython",
    "version": 2
   },
   "file_extension": ".py",
   "mimetype": "text/x-python",
   "name": "python",
   "nbconvert_exporter": "python",
   "pygments_lexer": "ipython2",
   "version": "2.7.6"
  }
 },
 "nbformat": 4,
 "nbformat_minor": 5
}
